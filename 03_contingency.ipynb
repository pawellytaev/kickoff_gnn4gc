{
 "cells": [
  {
   "cell_type": "markdown",
   "metadata": {},
   "source": [
    "# Contingency analysis"
   ]
  },
  {
   "cell_type": "markdown",
   "metadata": {},
   "source": [
    "pandapower has the contingency analysis of lightsim2grid implemented. This can be used for super-fast n-1 screening. Here we demonstrate it with the MV Oberrhein grid."
   ]
  },
  {
   "cell_type": "code",
   "execution_count": null,
   "metadata": {},
   "outputs": [],
   "source": [
    "import warnings\n",
    "warnings.filterwarnings(\"ignore\")\n",
    "import pandapower as pp\n",
    "import pandapower.networks as nw\n",
    "import seaborn as sns\n",
    "\n",
    "net = nw.mv_oberrhein()\n",
    "net.switch.closed = True # we close all switches so the grid becomes meshed (before it was operated as an open loop)\n",
    "pp.create_continuous_bus_index(net)\n",
    "\n",
    "net.line['max_loading_percent']=100\n",
    "net.trafo['max_loading_percent']=100\n",
    "\n",
    "pp.runpp(net)\n",
    "net"
   ]
  },
  {
   "cell_type": "markdown",
   "metadata": {},
   "source": [
    "Now we utilize the implemented contingency module"
   ]
  },
  {
   "cell_type": "code",
   "execution_count": null,
   "metadata": {
    "scrolled": true
   },
   "outputs": [],
   "source": [
    "import pandapower.contingency as pc\n",
    "\n",
    "nminus1_cases = {}\n",
    "nminus1_cases['line'] = {\"index\": net.line.index.values}\n",
    "nminus1_cases['trafo'] = {\"index\": net.trafo.index.values}\n",
    "\n",
    "\n",
    "# print(nminus1_cases)\n",
    "pc.run_contingency_ls2g(net, nminus1_cases)\n"
   ]
  },
  {
   "cell_type": "code",
   "execution_count": null,
   "metadata": {},
   "outputs": [],
   "source": [
    "sns.boxplot(net.res_line['max_loading_percent'])"
   ]
  },
  {
   "cell_type": "code",
   "execution_count": null,
   "metadata": {},
   "outputs": [],
   "source": [
    "sns.boxplot(net.res_bus['max_vm_pu'])"
   ]
  }
 ],
 "metadata": {
  "anaconda-cloud": {},
  "kernelspec": {
   "display_name": "Python 3 (ipykernel)",
   "language": "python",
   "name": "python3"
  },
  "language_info": {
   "codemirror_mode": {
    "name": "ipython",
    "version": 3
   },
   "file_extension": ".py",
   "mimetype": "text/x-python",
   "name": "python",
   "nbconvert_exporter": "python",
   "pygments_lexer": "ipython3",
   "version": "3.10.12"
  }
 },
 "nbformat": 4,
 "nbformat_minor": 1
}
