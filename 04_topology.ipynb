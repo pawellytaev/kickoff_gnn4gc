{
 "cells": [
  {
   "cell_type": "markdown",
   "metadata": {},
   "source": [
    "# Topology module"
   ]
  },
  {
   "cell_type": "markdown",
   "metadata": {},
   "source": [
    "We also have a topology module, that can for example check for unsupplied buses in a grid using the networkx library. For the sake of simplicity we use the same grid model that we created in notebook 01"
   ]
  },
  {
   "cell_type": "code",
   "execution_count": null,
   "metadata": {},
   "outputs": [],
   "source": [
    "import warnings # to avoid warnings on binder\n",
    "warnings.filterwarnings(\"ignore\")\n",
    "\n",
    "import pandapower as pp\n",
    "import pandapower.topology as top\n",
    "from pandapower.plotting import simple_plot\n",
    "\n",
    "net = pp.create_empty_network()\n",
    "# buses\n",
    "bus0 = pp.create_bus(net, vn_kv=220.0)\n",
    "bus1 = pp.create_bus(net, vn_kv=110.0)\n",
    "bus2 = pp.create_bus(net, vn_kv=110.0)\n",
    "bus3 = pp.create_bus(net, vn_kv=110.0)\n",
    "\n",
    "# external grid\n",
    "pp.create_ext_grid(net, bus=bus0)\n",
    "\n",
    "# transformer\n",
    "pp.create_transformer(net, hv_bus=bus0, lv_bus=bus1, std_type=\"100 MVA 220/110 kV\")\n",
    "\n",
    "# create_line\n",
    "pp.create_line(net, from_bus=bus1, to_bus=bus2, length_km=10, std_type=\"N2XS(FL)2Y 1x300 RM/35 64/110 kV\")\n",
    "pp.create_line(net, from_bus=bus2, to_bus=bus3, length_km=10, std_type=\"N2XS(FL)2Y 1x300 RM/35 64/110 kV\")\n",
    "\n",
    "pp.create_line_from_parameters(net, from_bus=bus1, to_bus=bus3, length_km=10, r_ohm_per_km=0.06, x_ohm_per_km=0.144,\n",
    "                              c_nf_per_km=144.0, max_i_ka=0.588, your_custom_attribute=\"GNN4GC rocks!\")\n",
    "\n",
    "# load\n",
    "pp.create_load(net, bus=bus3, p_mw=200, q_mvar=100)\n",
    "\n",
    "# static generator\n",
    "pp.create_sgen(net, bus=bus2, p_mw=120, q_mvar=-20)\n",
    "\n",
    "bus4 = pp.create_bus(net, 110.0)\n",
    "bus5 = pp.create_bus(net, 110.0)\n",
    "\n",
    "pp.create_line(net, from_bus=bus4, to_bus=bus5, length_km=50, std_type=\"N2XS(FL)2Y 1x300 RM/35 64/110 kV\")\n",
    "\n",
    "pp.create_gen(net, bus=bus5, p_mw=20, vm_pu=1.05)\n",
    "\n",
    "pp.create_switch(net, bus=bus3, et=\"b\", element=bus4, closed=True)\n",
    "\n",
    "simple_plot(net)"
   ]
  },
  {
   "cell_type": "markdown",
   "metadata": {},
   "source": [
    "Now we open the switch and search for unsupplied buses"
   ]
  },
  {
   "cell_type": "code",
   "execution_count": null,
   "metadata": {
    "scrolled": false
   },
   "outputs": [],
   "source": [
    "net.switch.loc[0, 'closed'] = False\n",
    "simple_plot(net)"
   ]
  },
  {
   "cell_type": "code",
   "execution_count": null,
   "metadata": {},
   "outputs": [],
   "source": [
    "top.unsupplied_buses(net)"
   ]
  },
  {
   "cell_type": "code",
   "execution_count": null,
   "metadata": {},
   "outputs": [],
   "source": []
  }
 ],
 "metadata": {
  "anaconda-cloud": {},
  "kernelspec": {
   "display_name": "Python 3 (ipykernel)",
   "language": "python",
   "name": "python3"
  },
  "language_info": {
   "codemirror_mode": {
    "name": "ipython",
    "version": 3
   },
   "file_extension": ".py",
   "mimetype": "text/x-python",
   "name": "python",
   "nbconvert_exporter": "python",
   "pygments_lexer": "ipython3",
   "version": "3.10.12"
  }
 },
 "nbformat": 4,
 "nbformat_minor": 1
}
